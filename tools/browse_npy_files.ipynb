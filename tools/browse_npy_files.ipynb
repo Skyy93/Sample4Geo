{
 "cells": [
  {
   "cell_type": "code",
   "execution_count": 2,
   "metadata": {},
   "outputs": [],
   "source": [
    "import os\n",
    "import numpy as np\n",
    "import pandas as pd\n",
    "import matplotlib.pyplot as plt\n",
    "from ipywidgets import widgets, interact\n",
    "from IPython.display import display"
   ]
  },
  {
   "cell_type": "code",
   "execution_count": 6,
   "metadata": {},
   "outputs": [],
   "source": [
    "csv_path = '/Coding/Sample4Geo/data/final_metadata.csv'\n",
    "data = pd.read_csv(csv_path)\n",
    "spectrogram_path = '/Coding/Sample4Geo/data/spectrograms/128mel_48kHz'\n",
    "\n",
    "def get_npy_files():\n",
    "    return [f for f in os.listdir(spectrogram_path) if f.endswith('.npy')]\n",
    "\n",
    "npy_files = get_npy_files()\n",
    "dropdown = widgets.Dropdown(options=npy_files)\n",
    "\n",
    "def display_spectrogram_and_info(selected_file):\n",
    "    # Load and display the spectrogram\n",
    "    npy_file_path = os.path.join(spectrogram_path, selected_file)\n",
    "    spectrogram = np.load(npy_file_path)\n",
    "    plt.imshow(spectrogram, aspect='auto')\n",
    "    plt.colorbar()\n",
    "    plt.title(f\"Spectrogram of {selected_file}\")\n",
    "    plt.show()\n",
    "\n",
    "    # Extract the key from the file name\n",
    "    short_key = selected_file.split('.')[0]\n",
    "    \n",
    "    # Display associated data from the CSV\n",
    "    associated_data = data[data['short_key'] == short_key]\n",
    "    if not associated_data.empty:\n",
    "        display(associated_data)\n",
    "    else:\n",
    "        print(\"No associated data found in CSV for this file.\")"
   ]
  },
  {
   "cell_type": "code",
   "execution_count": null,
   "metadata": {},
   "outputs": [],
   "source": [
    "interact(display_spectrogram_and_info, selected_file=dropdown)"
   ]
  }
 ],
 "metadata": {
  "kernelspec": {
   "display_name": "base",
   "language": "python",
   "name": "python3"
  },
  "language_info": {
   "codemirror_mode": {
    "name": "ipython",
    "version": 3
   },
   "file_extension": ".py",
   "mimetype": "text/x-python",
   "name": "python",
   "nbconvert_exporter": "python",
   "pygments_lexer": "ipython3",
   "version": "3.12.2"
  }
 },
 "nbformat": 4,
 "nbformat_minor": 2
}
